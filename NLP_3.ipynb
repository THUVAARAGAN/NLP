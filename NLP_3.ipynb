{
  "nbformat": 4,
  "nbformat_minor": 0,
  "metadata": {
    "colab": {
      "provenance": [],
      "authorship_tag": "ABX9TyO/ClfQMIhCPA01gZ005+pz",
      "include_colab_link": true
    },
    "kernelspec": {
      "name": "python3",
      "display_name": "Python 3"
    },
    "language_info": {
      "name": "python"
    }
  },
  "cells": [
    {
      "cell_type": "markdown",
      "metadata": {
        "id": "view-in-github",
        "colab_type": "text"
      },
      "source": [
        "<a href=\"https://colab.research.google.com/github/THUVAARAGAN/NLP/blob/main/NLP_3.ipynb\" target=\"_parent\"><img src=\"https://colab.research.google.com/assets/colab-badge.svg\" alt=\"Open In Colab\"/></a>"
      ]
    },
    {
      "cell_type": "code",
      "execution_count": 1,
      "metadata": {
        "colab": {
          "base_uri": "https://localhost:8080/"
        },
        "id": "zxrFh5Arfr2B",
        "outputId": "e6e366f9-728d-4e38-d4da-e5b8cf09bfe2"
      },
      "outputs": [
        {
          "output_type": "stream",
          "name": "stderr",
          "text": [
            "/usr/local/lib/python3.9/dist-packages/torch/cuda/__init__.py:497: UserWarning: Can't initialize NVML\n",
            "  warnings.warn(\"Can't initialize NVML\")\n"
          ]
        }
      ],
      "source": [
        "import spacy"
      ]
    },
    {
      "cell_type": "code",
      "source": [
        "nlp = spacy.blank('en')\n",
        "\n",
        "doc = nlp(\"Automatic image captioning is a challenging problem with many complexities and is the focus of many impactful research works.\")\n",
        "\n",
        "print(doc)\n",
        "\n",
        "for token in doc:\n",
        "  print(token)"
      ],
      "metadata": {
        "colab": {
          "base_uri": "https://localhost:8080/"
        },
        "id": "p8siHf4lf1We",
        "outputId": "2a17d9f3-19ea-41b6-e796-4b4bbbcf2f71"
      },
      "execution_count": 6,
      "outputs": [
        {
          "output_type": "stream",
          "name": "stdout",
          "text": [
            "Automatic image captioning is a challenging problem with many complexities and is the focus of many impactful research works.\n",
            "Automatic\n",
            "image\n",
            "captioning\n",
            "is\n",
            "a\n",
            "challenging\n",
            "problem\n",
            "with\n",
            "many\n",
            "complexities\n",
            "and\n",
            "is\n",
            "the\n",
            "focus\n",
            "of\n",
            "many\n",
            "impactful\n",
            "research\n",
            "works\n",
            ".\n"
          ]
        }
      ]
    },
    {
      "cell_type": "code",
      "source": [
        "print(doc[0])\n",
        "print(doc[7])\n",
        "print(len(doc))\n",
        "print(len(doc[0]))"
      ],
      "metadata": {
        "colab": {
          "base_uri": "https://localhost:8080/"
        },
        "id": "bkJ53s1HhUId",
        "outputId": "302a7dcf-aafe-4730-86a8-c7ee0fa8a1e2"
      },
      "execution_count": 8,
      "outputs": [
        {
          "output_type": "stream",
          "name": "stdout",
          "text": [
            "Automatic\n",
            "with\n",
            "20\n",
            "9\n"
          ]
        }
      ]
    },
    {
      "cell_type": "code",
      "source": [
        "nlp = spacy.blank('en')\n",
        "\n",
        "doc_1 = nlp(\"Let's go to N.Y.!\")\n",
        "\n",
        "print(doc_1)\n",
        "\n",
        "for token in doc_1:\n",
        "  print(token)"
      ],
      "metadata": {
        "colab": {
          "base_uri": "https://localhost:8080/"
        },
        "id": "OJtxr_oGibkd",
        "outputId": "ecbf55b1-af1a-4f7b-acc0-f36a6d0e0aba"
      },
      "execution_count": 9,
      "outputs": [
        {
          "output_type": "stream",
          "name": "stdout",
          "text": [
            "Let's go to N.Y.!\n",
            "Let\n",
            "'s\n",
            "go\n",
            "to\n",
            "N.Y.\n",
            "!\n"
          ]
        }
      ]
    },
    {
      "cell_type": "code",
      "source": [
        "nlp = spacy.blank('en')\n",
        "\n",
        "doc_2 = nlp('''\"Let's go to N.Y.!\"''')\n",
        "\n",
        "print(doc_2)\n",
        "\n",
        "for x in doc_2:\n",
        "  print(x)"
      ],
      "metadata": {
        "colab": {
          "base_uri": "https://localhost:8080/"
        },
        "id": "1dwK_PeAlRvp",
        "outputId": "70efe08c-7b5c-48c9-8636-7591f57cc222"
      },
      "execution_count": 12,
      "outputs": [
        {
          "output_type": "stream",
          "name": "stdout",
          "text": [
            "\"Let's go to N.Y.!\"\n",
            "\"\n",
            "Let\n",
            "'s\n",
            "go\n",
            "to\n",
            "N.Y.\n",
            "!\n",
            "\"\n"
          ]
        }
      ]
    },
    {
      "cell_type": "code",
      "source": [
        "print(type(nlp))\n",
        "print(type(doc_2))\n",
        "print(type(x))\n"
      ],
      "metadata": {
        "colab": {
          "base_uri": "https://localhost:8080/"
        },
        "id": "H1fLCN_ploQM",
        "outputId": "f75105c2-8729-4e9f-9369-78f021d31e31"
      },
      "execution_count": 13,
      "outputs": [
        {
          "output_type": "stream",
          "name": "stdout",
          "text": [
            "<class 'spacy.lang.en.English'>\n",
            "<class 'spacy.tokens.doc.Doc'>\n",
            "<class 'spacy.tokens.token.Token'>\n"
          ]
        }
      ]
    },
    {
      "cell_type": "code",
      "source": [
        "doc[1:10]"
      ],
      "metadata": {
        "colab": {
          "base_uri": "https://localhost:8080/"
        },
        "id": "wGoGqo-9l9Ek",
        "outputId": "4f6d6faf-71b5-4d95-a550-c3c81b0fd92e"
      },
      "execution_count": 14,
      "outputs": [
        {
          "output_type": "execute_result",
          "data": {
            "text/plain": [
              "image captioning is a challenging problem with many complexities"
            ]
          },
          "metadata": {},
          "execution_count": 14
        }
      ]
    },
    {
      "cell_type": "code",
      "source": [
        "span = doc[1:6]\n",
        "type(span)"
      ],
      "metadata": {
        "colab": {
          "base_uri": "https://localhost:8080/"
        },
        "id": "1KRjvAp4mRHX",
        "outputId": "6ae8304b-5089-4f51-fe3d-a08b9a7641f2"
      },
      "execution_count": 15,
      "outputs": [
        {
          "output_type": "execute_result",
          "data": {
            "text/plain": [
              "spacy.tokens.span.Span"
            ]
          },
          "metadata": {},
          "execution_count": 15
        }
      ]
    },
    {
      "cell_type": "code",
      "source": [
        "token_1 = doc[1]\n",
        "type(token_1)"
      ],
      "metadata": {
        "colab": {
          "base_uri": "https://localhost:8080/"
        },
        "id": "jXy3YUgwmeoQ",
        "outputId": "a26aac76-1da7-45cb-bdb4-fd2254eca273"
      },
      "execution_count": 16,
      "outputs": [
        {
          "output_type": "execute_result",
          "data": {
            "text/plain": [
              "spacy.tokens.token.Token"
            ]
          },
          "metadata": {},
          "execution_count": 16
        }
      ]
    },
    {
      "cell_type": "code",
      "source": [
        "dir(token_1)"
      ],
      "metadata": {
        "colab": {
          "base_uri": "https://localhost:8080/"
        },
        "id": "DBCYPhWrnCjt",
        "outputId": "7985a796-24bc-4c03-f105-43c48d841f74"
      },
      "execution_count": 17,
      "outputs": [
        {
          "output_type": "execute_result",
          "data": {
            "text/plain": [
              "['_',\n",
              " '__bytes__',\n",
              " '__class__',\n",
              " '__delattr__',\n",
              " '__dir__',\n",
              " '__doc__',\n",
              " '__eq__',\n",
              " '__format__',\n",
              " '__ge__',\n",
              " '__getattribute__',\n",
              " '__gt__',\n",
              " '__hash__',\n",
              " '__init__',\n",
              " '__init_subclass__',\n",
              " '__le__',\n",
              " '__len__',\n",
              " '__lt__',\n",
              " '__ne__',\n",
              " '__new__',\n",
              " '__pyx_vtable__',\n",
              " '__reduce__',\n",
              " '__reduce_ex__',\n",
              " '__repr__',\n",
              " '__setattr__',\n",
              " '__sizeof__',\n",
              " '__str__',\n",
              " '__subclasshook__',\n",
              " '__unicode__',\n",
              " 'ancestors',\n",
              " 'check_flag',\n",
              " 'children',\n",
              " 'cluster',\n",
              " 'conjuncts',\n",
              " 'dep',\n",
              " 'dep_',\n",
              " 'doc',\n",
              " 'ent_id',\n",
              " 'ent_id_',\n",
              " 'ent_iob',\n",
              " 'ent_iob_',\n",
              " 'ent_kb_id',\n",
              " 'ent_kb_id_',\n",
              " 'ent_type',\n",
              " 'ent_type_',\n",
              " 'get_extension',\n",
              " 'has_dep',\n",
              " 'has_extension',\n",
              " 'has_head',\n",
              " 'has_morph',\n",
              " 'has_vector',\n",
              " 'head',\n",
              " 'i',\n",
              " 'idx',\n",
              " 'iob_strings',\n",
              " 'is_alpha',\n",
              " 'is_ancestor',\n",
              " 'is_ascii',\n",
              " 'is_bracket',\n",
              " 'is_currency',\n",
              " 'is_digit',\n",
              " 'is_left_punct',\n",
              " 'is_lower',\n",
              " 'is_oov',\n",
              " 'is_punct',\n",
              " 'is_quote',\n",
              " 'is_right_punct',\n",
              " 'is_sent_end',\n",
              " 'is_sent_start',\n",
              " 'is_space',\n",
              " 'is_stop',\n",
              " 'is_title',\n",
              " 'is_upper',\n",
              " 'lang',\n",
              " 'lang_',\n",
              " 'left_edge',\n",
              " 'lefts',\n",
              " 'lemma',\n",
              " 'lemma_',\n",
              " 'lex',\n",
              " 'lex_id',\n",
              " 'like_email',\n",
              " 'like_num',\n",
              " 'like_url',\n",
              " 'lower',\n",
              " 'lower_',\n",
              " 'morph',\n",
              " 'n_lefts',\n",
              " 'n_rights',\n",
              " 'nbor',\n",
              " 'norm',\n",
              " 'norm_',\n",
              " 'orth',\n",
              " 'orth_',\n",
              " 'pos',\n",
              " 'pos_',\n",
              " 'prefix',\n",
              " 'prefix_',\n",
              " 'prob',\n",
              " 'rank',\n",
              " 'remove_extension',\n",
              " 'right_edge',\n",
              " 'rights',\n",
              " 'sent',\n",
              " 'sent_start',\n",
              " 'sentiment',\n",
              " 'set_extension',\n",
              " 'set_morph',\n",
              " 'shape',\n",
              " 'shape_',\n",
              " 'similarity',\n",
              " 'subtree',\n",
              " 'suffix',\n",
              " 'suffix_',\n",
              " 'tag',\n",
              " 'tag_',\n",
              " 'tensor',\n",
              " 'text',\n",
              " 'text_with_ws',\n",
              " 'vector',\n",
              " 'vector_norm',\n",
              " 'vocab',\n",
              " 'whitespace_']"
            ]
          },
          "metadata": {},
          "execution_count": 17
        }
      ]
    },
    {
      "cell_type": "code",
      "source": [
        "len(dir(token_1))"
      ],
      "metadata": {
        "colab": {
          "base_uri": "https://localhost:8080/"
        },
        "id": "sVGV1xFupKwt",
        "outputId": "7b9dfffd-9dea-4851-9f89-af8a2812f931"
      },
      "execution_count": 25,
      "outputs": [
        {
          "output_type": "execute_result",
          "data": {
            "text/plain": [
              "122"
            ]
          },
          "metadata": {},
          "execution_count": 25
        }
      ]
    },
    {
      "cell_type": "code",
      "source": [
        "token_1.text"
      ],
      "metadata": {
        "colab": {
          "base_uri": "https://localhost:8080/",
          "height": 36
        },
        "id": "zNk3hT2BnJn8",
        "outputId": "dccef0b7-ca05-47d3-9546-0d561d8c1b33"
      },
      "execution_count": 18,
      "outputs": [
        {
          "output_type": "execute_result",
          "data": {
            "text/plain": [
              "'image'"
            ],
            "application/vnd.google.colaboratory.intrinsic+json": {
              "type": "string"
            }
          },
          "metadata": {},
          "execution_count": 18
        }
      ]
    },
    {
      "cell_type": "code",
      "source": [
        "token_1.vocab"
      ],
      "metadata": {
        "colab": {
          "base_uri": "https://localhost:8080/"
        },
        "id": "t8IrhChPndB0",
        "outputId": "65e50674-81cc-45c0-9637-990e9451f34f"
      },
      "execution_count": 19,
      "outputs": [
        {
          "output_type": "execute_result",
          "data": {
            "text/plain": [
              "<spacy.vocab.Vocab at 0x7fc5090ee820>"
            ]
          },
          "metadata": {},
          "execution_count": 19
        }
      ]
    },
    {
      "cell_type": "code",
      "source": [
        "token_1.whitespace_"
      ],
      "metadata": {
        "colab": {
          "base_uri": "https://localhost:8080/",
          "height": 36
        },
        "id": "jVGNHsSlniey",
        "outputId": "7780a67a-10cb-4821-b35a-4924f8aabb33"
      },
      "execution_count": 20,
      "outputs": [
        {
          "output_type": "execute_result",
          "data": {
            "text/plain": [
              "' '"
            ],
            "application/vnd.google.colaboratory.intrinsic+json": {
              "type": "string"
            }
          },
          "metadata": {},
          "execution_count": 20
        }
      ]
    },
    {
      "cell_type": "code",
      "source": [
        "token_1.tag"
      ],
      "metadata": {
        "colab": {
          "base_uri": "https://localhost:8080/"
        },
        "id": "a0iEwiSZnoiM",
        "outputId": "cb19e04d-1846-40f9-e65f-69ef8889823c"
      },
      "execution_count": 22,
      "outputs": [
        {
          "output_type": "execute_result",
          "data": {
            "text/plain": [
              "0"
            ]
          },
          "metadata": {},
          "execution_count": 22
        }
      ]
    },
    {
      "cell_type": "code",
      "source": [
        "token_1.like_email"
      ],
      "metadata": {
        "colab": {
          "base_uri": "https://localhost:8080/"
        },
        "id": "iQNCrkd1nsu2",
        "outputId": "8c7f4631-a0fa-4998-ed11-4c1f5e9ea1ef"
      },
      "execution_count": 24,
      "outputs": [
        {
          "output_type": "execute_result",
          "data": {
            "text/plain": [
              "False"
            ]
          },
          "metadata": {},
          "execution_count": 24
        }
      ]
    },
    {
      "cell_type": "code",
      "source": [
        "for token in doc:\n",
        "  print(token, \"-->\" , \"index :\" , token.i , \"is_alpha :\" ,token.is_alpha)"
      ],
      "metadata": {
        "colab": {
          "base_uri": "https://localhost:8080/"
        },
        "id": "BVHfM_KUn_Mk",
        "outputId": "e62d4ec2-858f-406e-dbd0-d86ff90528d0"
      },
      "execution_count": 26,
      "outputs": [
        {
          "output_type": "stream",
          "name": "stdout",
          "text": [
            "Automatic --> index : 0 is_alpha : True\n",
            "image --> index : 1 is_alpha : True\n",
            "captioning --> index : 2 is_alpha : True\n",
            "is --> index : 3 is_alpha : True\n",
            "a --> index : 4 is_alpha : True\n",
            "challenging --> index : 5 is_alpha : True\n",
            "problem --> index : 6 is_alpha : True\n",
            "with --> index : 7 is_alpha : True\n",
            "many --> index : 8 is_alpha : True\n",
            "complexities --> index : 9 is_alpha : True\n",
            "and --> index : 10 is_alpha : True\n",
            "is --> index : 11 is_alpha : True\n",
            "the --> index : 12 is_alpha : True\n",
            "focus --> index : 13 is_alpha : True\n",
            "of --> index : 14 is_alpha : True\n",
            "many --> index : 15 is_alpha : True\n",
            "impactful --> index : 16 is_alpha : True\n",
            "research --> index : 17 is_alpha : True\n",
            "works --> index : 18 is_alpha : True\n",
            ". --> index : 19 is_alpha : False\n"
          ]
        }
      ]
    },
    {
      "cell_type": "code",
      "source": [
        "with open(\"/content/student information.txt\") as f:\n",
        "  text = f.readlines()\n",
        "\n",
        "text"
      ],
      "metadata": {
        "colab": {
          "base_uri": "https://localhost:8080/"
        },
        "id": "gUdAvkMyssfJ",
        "outputId": "fbb3bf55-1ae7-4854-e1de-ddd8ac537c52"
      },
      "execution_count": 27,
      "outputs": [
        {
          "output_type": "execute_result",
          "data": {
            "text/plain": [
              "['student information \\n',\n",
              " 'Name           birth             e-mail\\n',\n",
              " '----           -----            --------\\n',\n",
              " 'Joy          17-oct-1996        jay18@gmail.com\\n',\n",
              " 'ifran        05-Dec-1985        ifran@gmail.com\\n',\n",
              " 'Dilu         09-July-1998       dilu0810@gmail.com\\n',\n",
              " 'thuvaa       14-May-1997        thuvaaragant@gmail.com         ']"
            ]
          },
          "metadata": {},
          "execution_count": 27
        }
      ]
    },
    {
      "cell_type": "code",
      "source": [
        "text = ''.join(text)\n",
        "text"
      ],
      "metadata": {
        "colab": {
          "base_uri": "https://localhost:8080/",
          "height": 70
        },
        "id": "V_sBhsOOuYbA",
        "outputId": "eabc329f-3dda-426f-a137-a7413b0a3b07"
      },
      "execution_count": 28,
      "outputs": [
        {
          "output_type": "execute_result",
          "data": {
            "text/plain": [
              "'student information \\nName           birth             e-mail\\n----           -----            --------\\nJoy          17-oct-1996        jay18@gmail.com\\nifran        05-Dec-1985        ifran@gmail.com\\nDilu         09-July-1998       dilu0810@gmail.com\\nthuvaa       14-May-1997        thuvaaragant@gmail.com         '"
            ],
            "application/vnd.google.colaboratory.intrinsic+json": {
              "type": "string"
            }
          },
          "metadata": {},
          "execution_count": 28
        }
      ]
    },
    {
      "cell_type": "code",
      "source": [
        "doc_4 = nlp(text)\n",
        "emails = []\n",
        "index = []\n",
        "for token in doc_4:\n",
        "  # print(token)\n",
        "  if token.like_email:\n",
        "    emails.append(token.text)\n",
        "    index.append(token.i)\n",
        "\n",
        "print(emails)\n",
        "print(index)"
      ],
      "metadata": {
        "colab": {
          "base_uri": "https://localhost:8080/"
        },
        "id": "FlPsSr9Hu6vf",
        "outputId": "ff9a04ee-22b8-4f39-9f16-02a2f6ed6200"
      },
      "execution_count": 33,
      "outputs": [
        {
          "output_type": "stream",
          "name": "stdout",
          "text": [
            "['jay18@gmail.com', 'ifran@gmail.com', 'dilu0810@gmail.com', 'thuvaaragant@gmail.com']\n",
            "[23, 31, 39, 47]\n"
          ]
        }
      ]
    },
    {
      "cell_type": "code",
      "source": [
        "nlp = spacy.blank('ta')\n",
        "\n",
        "doc_5 = nlp(\"எனது பொழுதுபோக்கு விளைஜாடுதல்.\")\n",
        "\n",
        "print(doc_5)\n",
        "\n",
        "for x in doc_5:\n",
        "  print(x)"
      ],
      "metadata": {
        "colab": {
          "base_uri": "https://localhost:8080/"
        },
        "id": "i2zV_n7RwEhF",
        "outputId": "5a84bf0b-93af-4721-add1-bca05b2821d2"
      },
      "execution_count": 35,
      "outputs": [
        {
          "output_type": "stream",
          "name": "stdout",
          "text": [
            "எனது பொழுதுபோக்கு விளைஜாடுதல்.\n",
            "எனது\n",
            "பொழுதுபோக்கு\n",
            "விளைஜாடுதல்\n",
            ".\n"
          ]
        }
      ]
    },
    {
      "cell_type": "code",
      "source": [
        "nlp = spacy.blank('en')\n",
        "\n",
        "doc_6 = nlp(\"Automatic image captioning is a challenging problem with many complexities and is the focus of many impactful research works.\")\n",
        "token = [token.text for token in doc]\n",
        "token"
      ],
      "metadata": {
        "colab": {
          "base_uri": "https://localhost:8080/"
        },
        "id": "Vq8d5ggQzqyr",
        "outputId": "2685650b-2123-4058-b3b7-3a0de98370d1"
      },
      "execution_count": 36,
      "outputs": [
        {
          "output_type": "execute_result",
          "data": {
            "text/plain": [
              "['Automatic',\n",
              " 'image',\n",
              " 'captioning',\n",
              " 'is',\n",
              " 'a',\n",
              " 'challenging',\n",
              " 'problem',\n",
              " 'with',\n",
              " 'many',\n",
              " 'complexities',\n",
              " 'and',\n",
              " 'is',\n",
              " 'the',\n",
              " 'focus',\n",
              " 'of',\n",
              " 'many',\n",
              " 'impactful',\n",
              " 'research',\n",
              " 'works',\n",
              " '.']"
            ]
          },
          "metadata": {},
          "execution_count": 36
        }
      ]
    },
    {
      "cell_type": "code",
      "source": [
        "from spacy.symbols import ORTH"
      ],
      "metadata": {
        "id": "qRE8uYj30mhZ"
      },
      "execution_count": 37,
      "outputs": []
    },
    {
      "cell_type": "code",
      "source": [
        "nlp.tokenizer.add_special_case(\"Automatic\", [{ORTH: \"Auto\"},{ORTH: \"matic\"}])\n",
        "doc_7 = nlp(\"Automatic image captioning is a challenging problem with many complexities and is the focus of many impactful research works.\")\n",
        "tokens = [token.text for token in doc_7]\n",
        "tokens"
      ],
      "metadata": {
        "colab": {
          "base_uri": "https://localhost:8080/"
        },
        "id": "GwrafZX11Zih",
        "outputId": "cdc69ad5-bf5f-42e8-a807-a9b5996c9b8e"
      },
      "execution_count": 38,
      "outputs": [
        {
          "output_type": "execute_result",
          "data": {
            "text/plain": [
              "['Auto',\n",
              " 'matic',\n",
              " 'image',\n",
              " 'captioning',\n",
              " 'is',\n",
              " 'a',\n",
              " 'challenging',\n",
              " 'problem',\n",
              " 'with',\n",
              " 'many',\n",
              " 'complexities',\n",
              " 'and',\n",
              " 'is',\n",
              " 'the',\n",
              " 'focus',\n",
              " 'of',\n",
              " 'many',\n",
              " 'impactful',\n",
              " 'research',\n",
              " 'works',\n",
              " '.']"
            ]
          },
          "metadata": {},
          "execution_count": 38
        }
      ]
    },
    {
      "cell_type": "code",
      "source": [
        "nlp.add_pipe('sentencizer')"
      ],
      "metadata": {
        "colab": {
          "base_uri": "https://localhost:8080/"
        },
        "id": "SdTu6RSj3oc1",
        "outputId": "d6016676-5f74-4a66-8f94-a0ff11ea6286"
      },
      "execution_count": 40,
      "outputs": [
        {
          "output_type": "execute_result",
          "data": {
            "text/plain": [
              "<spacy.pipeline.sentencizer.Sentencizer at 0x7fc6257ddac0>"
            ]
          },
          "metadata": {},
          "execution_count": 40
        }
      ]
    },
    {
      "cell_type": "code",
      "source": [
        "nlp.pipe_names"
      ],
      "metadata": {
        "colab": {
          "base_uri": "https://localhost:8080/"
        },
        "id": "NGNkCYbm3x0P",
        "outputId": "03bf2810-9557-43c1-d08f-db15a16d1205"
      },
      "execution_count": 41,
      "outputs": [
        {
          "output_type": "execute_result",
          "data": {
            "text/plain": [
              "['sentencizer']"
            ]
          },
          "metadata": {},
          "execution_count": 41
        }
      ]
    },
    {
      "cell_type": "code",
      "source": [
        "doc_8 = nlp(\"Automatic image captioning is a challenging problem with many complexities and is the focus of many impactful research works. i am a boy.\")\n",
        "for sentance in doc_8.sents:\n",
        "  print(sentance)\n"
      ],
      "metadata": {
        "colab": {
          "base_uri": "https://localhost:8080/"
        },
        "id": "4BfSrGzg2bVK",
        "outputId": "04c86598-1a76-4396-8108-a6a75fefb5b6"
      },
      "execution_count": 42,
      "outputs": [
        {
          "output_type": "stream",
          "name": "stdout",
          "text": [
            "Automatic image captioning is a challenging problem with many complexities and is the focus of many impactful research works.\n",
            "i am a boy.\n"
          ]
        }
      ]
    },
    {
      "cell_type": "code",
      "source": [],
      "metadata": {
        "id": "50ejRKvK3hsF"
      },
      "execution_count": null,
      "outputs": []
    }
  ]
}