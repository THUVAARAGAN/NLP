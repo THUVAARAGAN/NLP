{
  "nbformat": 4,
  "nbformat_minor": 0,
  "metadata": {
    "colab": {
      "provenance": [],
      "authorship_tag": "ABX9TyN1MK6h8typ5tpkcrLVu2tv",
      "include_colab_link": true
    },
    "kernelspec": {
      "name": "python3",
      "display_name": "Python 3"
    },
    "language_info": {
      "name": "python"
    }
  },
  "cells": [
    {
      "cell_type": "markdown",
      "metadata": {
        "id": "view-in-github",
        "colab_type": "text"
      },
      "source": [
        "<a href=\"https://colab.research.google.com/github/THUVAARAGAN/NLP/blob/main/NLP_5.ipynb\" target=\"_parent\"><img src=\"https://colab.research.google.com/assets/colab-badge.svg\" alt=\"Open In Colab\"/></a>"
      ]
    },
    {
      "cell_type": "code",
      "execution_count": 1,
      "metadata": {
        "colab": {
          "base_uri": "https://localhost:8080/"
        },
        "id": "JKLE2bxuNnPk",
        "outputId": "36d66c26-b847-4768-a18b-c6919f9ddef5"
      },
      "outputs": [
        {
          "output_type": "stream",
          "name": "stderr",
          "text": [
            "/usr/local/lib/python3.9/dist-packages/torch/cuda/__init__.py:497: UserWarning: Can't initialize NVML\n",
            "  warnings.warn(\"Can't initialize NVML\")\n"
          ]
        }
      ],
      "source": [
        "import nltk\n",
        "import spacy"
      ]
    },
    {
      "cell_type": "code",
      "source": [
        "from nltk.stem import PorterStemmer"
      ],
      "metadata": {
        "id": "k3KxAPMBN0Yd"
      },
      "execution_count": 2,
      "outputs": []
    },
    {
      "cell_type": "code",
      "source": [
        "stem_mine = PorterStemmer()"
      ],
      "metadata": {
        "id": "pnbpMvPMOa-k"
      },
      "execution_count": 5,
      "outputs": []
    },
    {
      "cell_type": "code",
      "source": [
        "words = [\"eating\", \"walking\", \"adjastable\", \"ate\", \"ability\"]\n",
        "for word in words:\n",
        "  print(word , \"|\", stem_mine.stem(word))\n",
        "\n",
        "  "
      ],
      "metadata": {
        "colab": {
          "base_uri": "https://localhost:8080/"
        },
        "id": "mifgwMJcOlaE",
        "outputId": "365cfeaa-076e-43a4-9afa-210e99f5a7e7"
      },
      "execution_count": 6,
      "outputs": [
        {
          "output_type": "stream",
          "name": "stdout",
          "text": [
            "eating | eat\n",
            "walking | walk\n",
            "adjastable | adjast\n",
            "ate | ate\n",
            "ability | abil\n"
          ]
        }
      ]
    },
    {
      "cell_type": "code",
      "source": [
        "nlp = spacy.load(\"en_core_web_sm\")\n",
        "\n",
        "doc = nlp(\"eating ate eats walking adjastable ability \")\n",
        "\n",
        "for token in doc:\n",
        "  print(token, \"|\", token.lemma, \"|\",  token.lemma_)"
      ],
      "metadata": {
        "colab": {
          "base_uri": "https://localhost:8080/"
        },
        "id": "0QRU6zuQPc60",
        "outputId": "a2efc260-7adb-4ce0-84b5-2d2b4aad15c4"
      },
      "execution_count": 10,
      "outputs": [
        {
          "output_type": "stream",
          "name": "stdout",
          "text": [
            "eating | 9837207709914848172 | eat\n",
            "ate | 9837207709914848172 | eat\n",
            "eats | 9837207709914848172 | eat\n",
            "walking | 1674876016505392235 | walk\n",
            "adjastable | 9757945306056234288 | adjastable\n",
            "ability | 11565809527369121409 | ability\n"
          ]
        }
      ]
    },
    {
      "cell_type": "code",
      "source": [
        "nlp = spacy.load(\"en_core_web_sm\")\n",
        "\n",
        "doc = nlp(\"eating eats walking adjastable ate ability \")\n",
        "\n",
        "for token in doc:\n",
        "  print(token, \"|\", token.lemma, \"|\",  token.lemma_)"
      ],
      "metadata": {
        "colab": {
          "base_uri": "https://localhost:8080/"
        },
        "id": "-BeDGDWJQ8J1",
        "outputId": "d1a79f13-684b-4517-b310-6010e6e963de"
      },
      "execution_count": 11,
      "outputs": [
        {
          "output_type": "stream",
          "name": "stdout",
          "text": [
            "eating | 9837207709914848172 | eat\n",
            "eats | 9837207709914848172 | eat\n",
            "walking | 1674876016505392235 | walk\n",
            "adjastable | 9757945306056234288 | adjastable\n",
            "ate | 10806788082624814911 | ate\n",
            "ability | 11565809527369121409 | ability\n"
          ]
        }
      ]
    },
    {
      "cell_type": "code",
      "source": [
        "nlp = spacy.load(\"en_core_web_sm\")\n",
        "\n",
        "doc = nlp(\"toking eats walking toked ate n't ability \")\n",
        "\n",
        "for token in doc:\n",
        "  print(token, \"|\", token.lemma, \"|\",  token.lemma_)"
      ],
      "metadata": {
        "colab": {
          "base_uri": "https://localhost:8080/"
        },
        "id": "rNLYd6EhSjko",
        "outputId": "18d73e93-ac7c-4dd0-d33b-9e671cb053b7"
      },
      "execution_count": 12,
      "outputs": [
        {
          "output_type": "stream",
          "name": "stdout",
          "text": [
            "toking | 16016975209942369641 | toke\n",
            "eats | 9837207709914848172 | eat\n",
            "walking | 1674876016505392235 | walk\n",
            "toked | 7164029779440800293 | toked\n",
            "ate | 9837207709914848172 | eat\n",
            "n't | 447765159362469301 | not\n",
            "ability | 11565809527369121409 | ability\n"
          ]
        }
      ]
    },
    {
      "cell_type": "code",
      "source": [
        "nlp.pipe_names"
      ],
      "metadata": {
        "colab": {
          "base_uri": "https://localhost:8080/"
        },
        "id": "-P_Q4XL_TeZL",
        "outputId": "ff0bfa1a-6576-4603-d856-7c91143dccca"
      },
      "execution_count": 13,
      "outputs": [
        {
          "output_type": "execute_result",
          "data": {
            "text/plain": [
              "['tok2vec', 'tagger', 'parser', 'attribute_ruler', 'lemmatizer', 'ner']"
            ]
          },
          "metadata": {},
          "execution_count": 13
        }
      ]
    },
    {
      "cell_type": "code",
      "source": [
        "ar = nlp.get_pipe(\"attribute_ruler\")\n",
        "\n",
        "ar.add([[{\"Text\":\"Bro\"}], [{\"Text\":\"bro\"}], [{\"Text\":\"bru\"}]], {\"LEMMA\" : \"Brother\"})\n",
        "doc = nlp(\"Bro!, i am here bru plz come bro here\")\n",
        "\n",
        "for token in doc:\n",
        "  print(token.text, \"|\", token.lemma_, \"|\", token.lemma)\n",
        "\n"
      ],
      "metadata": {
        "colab": {
          "base_uri": "https://localhost:8080/"
        },
        "id": "nmLSK_EwTpPf",
        "outputId": "a13dc3f4-e7ad-4fd7-f753-424eb0944513"
      },
      "execution_count": 18,
      "outputs": [
        {
          "output_type": "stream",
          "name": "stdout",
          "text": [
            "Bro | Brother | 4347558510128575363\n",
            "! | ! | 17494803046312582752\n",
            ", | , | 2593208677638477497\n",
            "i | I | 4690420944186131903\n",
            "am | be | 10382539506755952630\n",
            "here | here | 411390626470654571\n",
            "bru | Brother | 4347558510128575363\n",
            "plz | plz | 14343498163602129788\n",
            "come | come | 5307304325359566725\n",
            "bro | Brother | 4347558510128575363\n",
            "here | here | 411390626470654571\n"
          ]
        }
      ]
    },
    {
      "cell_type": "code",
      "source": [
        "doc[0]"
      ],
      "metadata": {
        "colab": {
          "base_uri": "https://localhost:8080/"
        },
        "id": "s7XF2fQXVcVm",
        "outputId": "36ead526-a43b-4ee6-b42d-01a6ba834d8e"
      },
      "execution_count": 19,
      "outputs": [
        {
          "output_type": "execute_result",
          "data": {
            "text/plain": [
              "Bro"
            ]
          },
          "metadata": {},
          "execution_count": 19
        }
      ]
    },
    {
      "cell_type": "code",
      "source": [
        "doc[0].lemma_"
      ],
      "metadata": {
        "colab": {
          "base_uri": "https://localhost:8080/",
          "height": 36
        },
        "id": "Dq-bH0TRV5wO",
        "outputId": "863d6841-04fc-4cda-a7fa-5a2cc10ebffb"
      },
      "execution_count": 20,
      "outputs": [
        {
          "output_type": "execute_result",
          "data": {
            "text/plain": [
              "'Brother'"
            ],
            "application/vnd.google.colaboratory.intrinsic+json": {
              "type": "string"
            }
          },
          "metadata": {},
          "execution_count": 20
        }
      ]
    },
    {
      "cell_type": "code",
      "source": [],
      "metadata": {
        "id": "j0FPd0DCV9mA"
      },
      "execution_count": null,
      "outputs": []
    }
  ]
}