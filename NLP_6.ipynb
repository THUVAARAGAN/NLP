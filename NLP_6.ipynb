{
  "nbformat": 4,
  "nbformat_minor": 0,
  "metadata": {
    "colab": {
      "provenance": [],
      "authorship_tag": "ABX9TyNyMoyPsBREpGxEmd7Tx/4K",
      "include_colab_link": true
    },
    "kernelspec": {
      "name": "python3",
      "display_name": "Python 3"
    },
    "language_info": {
      "name": "python"
    }
  },
  "cells": [
    {
      "cell_type": "markdown",
      "metadata": {
        "id": "view-in-github",
        "colab_type": "text"
      },
      "source": [
        "<a href=\"https://colab.research.google.com/github/THUVAARAGAN/NLP/blob/main/NLP_6.ipynb\" target=\"_parent\"><img src=\"https://colab.research.google.com/assets/colab-badge.svg\" alt=\"Open In Colab\"/></a>"
      ]
    },
    {
      "cell_type": "code",
      "execution_count": 1,
      "metadata": {
        "colab": {
          "base_uri": "https://localhost:8080/"
        },
        "id": "dDtQfNLgwDa5",
        "outputId": "1cc250b5-4a6a-4937-ae09-550d89acd885"
      },
      "outputs": [
        {
          "output_type": "stream",
          "name": "stderr",
          "text": [
            "/usr/local/lib/python3.9/dist-packages/torch/cuda/__init__.py:497: UserWarning: Can't initialize NVML\n",
            "  warnings.warn(\"Can't initialize NVML\")\n"
          ]
        }
      ],
      "source": [
        "import spacy"
      ]
    },
    {
      "cell_type": "code",
      "source": [
        "nlp = spacy.load(\"en_core_web_sm\")"
      ],
      "metadata": {
        "id": "1ewPVNf0wMNY"
      },
      "execution_count": 2,
      "outputs": []
    },
    {
      "cell_type": "code",
      "source": [
        "doc = nlp(\"Deep neural networks faced the problem of vanishing or exploding gradients. This had been solved by various techniques like Batch Normalization.\")\n",
        "\n",
        "for token in doc:\n",
        "  print(token, \"|\", token.pos)"
      ],
      "metadata": {
        "colab": {
          "base_uri": "https://localhost:8080/"
        },
        "id": "Df8mlW-ZwXcu",
        "outputId": "f6e68c09-b68f-46dc-b0e9-d3dbb9d98f32"
      },
      "execution_count": 3,
      "outputs": [
        {
          "output_type": "stream",
          "name": "stdout",
          "text": [
            "Deep | 84\n",
            "neural | 84\n",
            "networks | 92\n",
            "faced | 100\n",
            "the | 90\n",
            "problem | 92\n",
            "of | 85\n",
            "vanishing | 100\n",
            "or | 89\n",
            "exploding | 100\n",
            "gradients | 92\n",
            ". | 97\n",
            "This | 95\n",
            "had | 87\n",
            "been | 87\n",
            "solved | 100\n",
            "by | 85\n",
            "various | 84\n",
            "techniques | 92\n",
            "like | 85\n",
            "Batch | 96\n",
            "Normalization | 96\n",
            ". | 97\n"
          ]
        }
      ]
    },
    {
      "cell_type": "code",
      "source": [
        "doc = nlp(\"Deep neural networks faced the problem of vanishing or exploding gradients. This had been solved by various techniques like Batch Normalization.\")\n",
        "\n",
        "for token in doc:\n",
        "  print(token, \"|\", token.pos, \"|\", token.pos_, \"|\", spacy.explain(token.pos_))"
      ],
      "metadata": {
        "colab": {
          "base_uri": "https://localhost:8080/"
        },
        "id": "RQTfTQO8wqjn",
        "outputId": "616ca3bf-b2cd-49b9-89af-9d6baffdaf1e"
      },
      "execution_count": 4,
      "outputs": [
        {
          "output_type": "stream",
          "name": "stdout",
          "text": [
            "Deep | 84 | ADJ | adjective\n",
            "neural | 84 | ADJ | adjective\n",
            "networks | 92 | NOUN | noun\n",
            "faced | 100 | VERB | verb\n",
            "the | 90 | DET | determiner\n",
            "problem | 92 | NOUN | noun\n",
            "of | 85 | ADP | adposition\n",
            "vanishing | 100 | VERB | verb\n",
            "or | 89 | CCONJ | coordinating conjunction\n",
            "exploding | 100 | VERB | verb\n",
            "gradients | 92 | NOUN | noun\n",
            ". | 97 | PUNCT | punctuation\n",
            "This | 95 | PRON | pronoun\n",
            "had | 87 | AUX | auxiliary\n",
            "been | 87 | AUX | auxiliary\n",
            "solved | 100 | VERB | verb\n",
            "by | 85 | ADP | adposition\n",
            "various | 84 | ADJ | adjective\n",
            "techniques | 92 | NOUN | noun\n",
            "like | 85 | ADP | adposition\n",
            "Batch | 96 | PROPN | proper noun\n",
            "Normalization | 96 | PROPN | proper noun\n",
            ". | 97 | PUNCT | punctuation\n"
          ]
        }
      ]
    },
    {
      "cell_type": "code",
      "source": [
        "doc = nlp(\"Deep neural networks faced the problem of vanishing or exploding gradients. This had been solved by various techniques like Batch Normalization.\")\n",
        "\n",
        "for token in doc:\n",
        "  print(token, \"|\", token.pos, \"|\", token.pos_, \"|\", spacy.explain(token.pos_), \"|\", token.tag_, \"|\", spacy.explain(token.tag_))"
      ],
      "metadata": {
        "colab": {
          "base_uri": "https://localhost:8080/"
        },
        "id": "DLC6_NLkxq4S",
        "outputId": "9bd82fa6-33da-41ec-c016-135852becf01"
      },
      "execution_count": 5,
      "outputs": [
        {
          "output_type": "stream",
          "name": "stdout",
          "text": [
            "Deep | 84 | ADJ | adjective | JJ | adjective (English), other noun-modifier (Chinese)\n",
            "neural | 84 | ADJ | adjective | JJ | adjective (English), other noun-modifier (Chinese)\n",
            "networks | 92 | NOUN | noun | NNS | noun, plural\n",
            "faced | 100 | VERB | verb | VBD | verb, past tense\n",
            "the | 90 | DET | determiner | DT | determiner\n",
            "problem | 92 | NOUN | noun | NN | noun, singular or mass\n",
            "of | 85 | ADP | adposition | IN | conjunction, subordinating or preposition\n",
            "vanishing | 100 | VERB | verb | VBG | verb, gerund or present participle\n",
            "or | 89 | CCONJ | coordinating conjunction | CC | conjunction, coordinating\n",
            "exploding | 100 | VERB | verb | VBG | verb, gerund or present participle\n",
            "gradients | 92 | NOUN | noun | NNS | noun, plural\n",
            ". | 97 | PUNCT | punctuation | . | punctuation mark, sentence closer\n",
            "This | 95 | PRON | pronoun | DT | determiner\n",
            "had | 87 | AUX | auxiliary | VBD | verb, past tense\n",
            "been | 87 | AUX | auxiliary | VBN | verb, past participle\n",
            "solved | 100 | VERB | verb | VBN | verb, past participle\n",
            "by | 85 | ADP | adposition | IN | conjunction, subordinating or preposition\n",
            "various | 84 | ADJ | adjective | JJ | adjective (English), other noun-modifier (Chinese)\n",
            "techniques | 92 | NOUN | noun | NNS | noun, plural\n",
            "like | 85 | ADP | adposition | IN | conjunction, subordinating or preposition\n",
            "Batch | 96 | PROPN | proper noun | NNP | noun, proper singular\n",
            "Normalization | 96 | PROPN | proper noun | NNP | noun, proper singular\n",
            ". | 97 | PUNCT | punctuation | . | punctuation mark, sentence closer\n"
          ]
        }
      ]
    },
    {
      "cell_type": "code",
      "source": [
        "doc = nlp(\"he quits the job.\")\n",
        "\n",
        "print(doc[1].text, \"|\", doc[1].tag_, \"|\", spacy.explain(doc[1].tag_))\n"
      ],
      "metadata": {
        "colab": {
          "base_uri": "https://localhost:8080/"
        },
        "id": "miyUJj5i0nRK",
        "outputId": "dbf11618-cde5-46f0-b795-d31358bc0069"
      },
      "execution_count": 10,
      "outputs": [
        {
          "output_type": "stream",
          "name": "stdout",
          "text": [
            "quits | VBZ | verb, 3rd person singular present\n"
          ]
        }
      ]
    },
    {
      "cell_type": "code",
      "source": [
        "doc = nlp(\"he quit the job.\")\n",
        "\n",
        "print(doc[1].text, \"|\", doc[1].tag_, \"|\", spacy.explain(doc[1].tag_))"
      ],
      "metadata": {
        "colab": {
          "base_uri": "https://localhost:8080/"
        },
        "id": "wCnHiTTn2LzI",
        "outputId": "30eb2fd6-cd71-418f-8f42-b62f9b777877"
      },
      "execution_count": 11,
      "outputs": [
        {
          "output_type": "stream",
          "name": "stdout",
          "text": [
            "quit | VBD | verb, past tense\n"
          ]
        }
      ]
    },
    {
      "cell_type": "code",
      "source": [
        "text = \" Net income attributable to Tesla's common stockholders was nearly 12.6 billion U.S. dollars, while net income related to noncontrolling interests amounted to 31 million U.S. dollars in 2022. This was the second year the company turned a full-year profit, after reaching that goal in 2020.\"\n",
        "\n",
        "doc = nlp(text)\n",
        "for token in doc:\n",
        "  print(token)"
      ],
      "metadata": {
        "colab": {
          "base_uri": "https://localhost:8080/"
        },
        "id": "Zi7KG1NX2O7R",
        "outputId": "196c556a-ac49-449a-c142-518c7ad9efb8"
      },
      "execution_count": 12,
      "outputs": [
        {
          "output_type": "stream",
          "name": "stdout",
          "text": [
            " \n",
            "Net\n",
            "income\n",
            "attributable\n",
            "to\n",
            "Tesla\n",
            "'s\n",
            "common\n",
            "stockholders\n",
            "was\n",
            "nearly\n",
            "12.6\n",
            "billion\n",
            "U.S.\n",
            "dollars\n",
            ",\n",
            "while\n",
            "net\n",
            "income\n",
            "related\n",
            "to\n",
            "noncontrolling\n",
            "interests\n",
            "amounted\n",
            "to\n",
            "31\n",
            "million\n",
            "U.S.\n",
            "dollars\n",
            "in\n",
            "2022\n",
            ".\n",
            "This\n",
            "was\n",
            "the\n",
            "second\n",
            "year\n",
            "the\n",
            "company\n",
            "turned\n",
            "a\n",
            "full\n",
            "-\n",
            "year\n",
            "profit\n",
            ",\n",
            "after\n",
            "reaching\n",
            "that\n",
            "goal\n",
            "in\n",
            "2020\n",
            ".\n"
          ]
        }
      ]
    },
    {
      "cell_type": "code",
      "source": [
        "text = \" Net income attributable to Tesla's common stockholders was nearly 12.6 billion U.S. dollars, while net income related to noncontrolling interests amounted to 31 million U.S. dollars in 2022. This was the second year the company turned a full-year profit, after reaching that goal in 2020.\"\n",
        "\n",
        "doc = nlp(text)\n",
        "for token in doc:\n",
        "  print(token, \"|\", token.pos, \"|\", spacy.explain(token.pos_), \"|\", token.pos_ )"
      ],
      "metadata": {
        "colab": {
          "base_uri": "https://localhost:8080/"
        },
        "id": "ajL3sv9S5UQ1",
        "outputId": "d6a5a677-2909-49ab-972a-68c7011c1d20"
      },
      "execution_count": 16,
      "outputs": [
        {
          "output_type": "stream",
          "name": "stdout",
          "text": [
            "  | 103 | space | SPACE\n",
            "Net | 84 | adjective | ADJ\n",
            "income | 92 | noun | NOUN\n",
            "attributable | 84 | adjective | ADJ\n",
            "to | 85 | adposition | ADP\n",
            "Tesla | 96 | proper noun | PROPN\n",
            "'s | 94 | particle | PART\n",
            "common | 84 | adjective | ADJ\n",
            "stockholders | 92 | noun | NOUN\n",
            "was | 87 | auxiliary | AUX\n",
            "nearly | 86 | adverb | ADV\n",
            "12.6 | 93 | numeral | NUM\n",
            "billion | 93 | numeral | NUM\n",
            "U.S. | 96 | proper noun | PROPN\n",
            "dollars | 92 | noun | NOUN\n",
            ", | 97 | punctuation | PUNCT\n",
            "while | 98 | subordinating conjunction | SCONJ\n",
            "net | 84 | adjective | ADJ\n",
            "income | 92 | noun | NOUN\n",
            "related | 100 | verb | VERB\n",
            "to | 85 | adposition | ADP\n",
            "noncontrolling | 84 | adjective | ADJ\n",
            "interests | 92 | noun | NOUN\n",
            "amounted | 100 | verb | VERB\n",
            "to | 85 | adposition | ADP\n",
            "31 | 93 | numeral | NUM\n",
            "million | 93 | numeral | NUM\n",
            "U.S. | 96 | proper noun | PROPN\n",
            "dollars | 92 | noun | NOUN\n",
            "in | 85 | adposition | ADP\n",
            "2022 | 93 | numeral | NUM\n",
            ". | 97 | punctuation | PUNCT\n",
            "This | 95 | pronoun | PRON\n",
            "was | 87 | auxiliary | AUX\n",
            "the | 90 | determiner | DET\n",
            "second | 84 | adjective | ADJ\n",
            "year | 92 | noun | NOUN\n",
            "the | 90 | determiner | DET\n",
            "company | 92 | noun | NOUN\n",
            "turned | 100 | verb | VERB\n",
            "a | 90 | determiner | DET\n",
            "full | 84 | adjective | ADJ\n",
            "- | 97 | punctuation | PUNCT\n",
            "year | 92 | noun | NOUN\n",
            "profit | 92 | noun | NOUN\n",
            ", | 97 | punctuation | PUNCT\n",
            "after | 85 | adposition | ADP\n",
            "reaching | 100 | verb | VERB\n",
            "that | 90 | determiner | DET\n",
            "goal | 92 | noun | NOUN\n",
            "in | 85 | adposition | ADP\n",
            "2020 | 93 | numeral | NUM\n",
            ". | 97 | punctuation | PUNCT\n"
          ]
        }
      ]
    },
    {
      "cell_type": "code",
      "source": [
        "text = \" Net income attributable to Tesla's common stockholders was nearly 12.6 billion U.S. dollars, while net income related to noncontrolling interests amounted to 31 million U.S. dollars in 2022. This was the second year the company turned a full-year profit, after reaching that goal in 2020.\"\n",
        "\n",
        "doc = nlp(text)\n",
        "for token in doc:\n",
        "  if token.pos_ in [\"SPACE\", \"X\", \"PUNCT\"]:\n",
        "    print(token, \"|\", token.pos, \"|\", spacy.explain(token.pos_), \"|\", token.pos_ )"
      ],
      "metadata": {
        "colab": {
          "base_uri": "https://localhost:8080/"
        },
        "id": "JHlS6xQe5vjA",
        "outputId": "05ba3b21-365c-4740-bbf4-a4910d4a3d3b"
      },
      "execution_count": 18,
      "outputs": [
        {
          "output_type": "stream",
          "name": "stdout",
          "text": [
            "  | 103 | space | SPACE\n",
            ", | 97 | punctuation | PUNCT\n",
            ". | 97 | punctuation | PUNCT\n",
            "- | 97 | punctuation | PUNCT\n",
            ", | 97 | punctuation | PUNCT\n",
            ". | 97 | punctuation | PUNCT\n"
          ]
        }
      ]
    },
    {
      "cell_type": "code",
      "source": [
        "text = \" Net income attributable to Tesla's common stockholders was nearly 12.6 billion U.S. dollars, while net income related to noncontrolling interests amounted to 31 million U.S. dollars in 2022. This was the second year the company turned a full-year profit, after reaching that goal in 2020.\"\n",
        "\n",
        "doc = nlp(text)\n",
        "for token in doc:\n",
        "  if not token.pos_ in [\"SPACE\", \"X\", \"PUNCT\"]:\n",
        "    print(token, \"|\", token.pos, \"|\", spacy.explain(token.pos_), \"|\", token.pos_ )"
      ],
      "metadata": {
        "colab": {
          "base_uri": "https://localhost:8080/"
        },
        "id": "g6cj3aVx619A",
        "outputId": "2f250fec-2ca8-4e90-b1b7-c0aa02fdd3bb"
      },
      "execution_count": 19,
      "outputs": [
        {
          "output_type": "stream",
          "name": "stdout",
          "text": [
            "Net | 84 | adjective | ADJ\n",
            "income | 92 | noun | NOUN\n",
            "attributable | 84 | adjective | ADJ\n",
            "to | 85 | adposition | ADP\n",
            "Tesla | 96 | proper noun | PROPN\n",
            "'s | 94 | particle | PART\n",
            "common | 84 | adjective | ADJ\n",
            "stockholders | 92 | noun | NOUN\n",
            "was | 87 | auxiliary | AUX\n",
            "nearly | 86 | adverb | ADV\n",
            "12.6 | 93 | numeral | NUM\n",
            "billion | 93 | numeral | NUM\n",
            "U.S. | 96 | proper noun | PROPN\n",
            "dollars | 92 | noun | NOUN\n",
            "while | 98 | subordinating conjunction | SCONJ\n",
            "net | 84 | adjective | ADJ\n",
            "income | 92 | noun | NOUN\n",
            "related | 100 | verb | VERB\n",
            "to | 85 | adposition | ADP\n",
            "noncontrolling | 84 | adjective | ADJ\n",
            "interests | 92 | noun | NOUN\n",
            "amounted | 100 | verb | VERB\n",
            "to | 85 | adposition | ADP\n",
            "31 | 93 | numeral | NUM\n",
            "million | 93 | numeral | NUM\n",
            "U.S. | 96 | proper noun | PROPN\n",
            "dollars | 92 | noun | NOUN\n",
            "in | 85 | adposition | ADP\n",
            "2022 | 93 | numeral | NUM\n",
            "This | 95 | pronoun | PRON\n",
            "was | 87 | auxiliary | AUX\n",
            "the | 90 | determiner | DET\n",
            "second | 84 | adjective | ADJ\n",
            "year | 92 | noun | NOUN\n",
            "the | 90 | determiner | DET\n",
            "company | 92 | noun | NOUN\n",
            "turned | 100 | verb | VERB\n",
            "a | 90 | determiner | DET\n",
            "full | 84 | adjective | ADJ\n",
            "year | 92 | noun | NOUN\n",
            "profit | 92 | noun | NOUN\n",
            "after | 85 | adposition | ADP\n",
            "reaching | 100 | verb | VERB\n",
            "that | 90 | determiner | DET\n",
            "goal | 92 | noun | NOUN\n",
            "in | 85 | adposition | ADP\n",
            "2020 | 93 | numeral | NUM\n"
          ]
        }
      ]
    },
    {
      "cell_type": "code",
      "source": [
        "text = \" Net income attributable to Tesla's common stockholders was nearly 12.6 billion U.S. dollars, while net income related to noncontrolling interests amounted to 31 million U.S. dollars in 2022. This was the second year the company turned a full-year profit, after reaching that goal in 2020.\"\n",
        "\n",
        "doc = nlp(text)\n",
        "for token in doc:\n",
        "  if token.pos_ not in [\"SPACE\", \"X\", \"PUNCT\"]:\n",
        "    print(token, \"|\", token.pos, \"|\", spacy.explain(token.pos_), \"|\", token.pos_ )"
      ],
      "metadata": {
        "colab": {
          "base_uri": "https://localhost:8080/"
        },
        "id": "26FjzeJh7Ek1",
        "outputId": "150bc8f1-2dc6-4e22-f519-12487b7c5793"
      },
      "execution_count": 20,
      "outputs": [
        {
          "output_type": "stream",
          "name": "stdout",
          "text": [
            "Net | 84 | adjective | ADJ\n",
            "income | 92 | noun | NOUN\n",
            "attributable | 84 | adjective | ADJ\n",
            "to | 85 | adposition | ADP\n",
            "Tesla | 96 | proper noun | PROPN\n",
            "'s | 94 | particle | PART\n",
            "common | 84 | adjective | ADJ\n",
            "stockholders | 92 | noun | NOUN\n",
            "was | 87 | auxiliary | AUX\n",
            "nearly | 86 | adverb | ADV\n",
            "12.6 | 93 | numeral | NUM\n",
            "billion | 93 | numeral | NUM\n",
            "U.S. | 96 | proper noun | PROPN\n",
            "dollars | 92 | noun | NOUN\n",
            "while | 98 | subordinating conjunction | SCONJ\n",
            "net | 84 | adjective | ADJ\n",
            "income | 92 | noun | NOUN\n",
            "related | 100 | verb | VERB\n",
            "to | 85 | adposition | ADP\n",
            "noncontrolling | 84 | adjective | ADJ\n",
            "interests | 92 | noun | NOUN\n",
            "amounted | 100 | verb | VERB\n",
            "to | 85 | adposition | ADP\n",
            "31 | 93 | numeral | NUM\n",
            "million | 93 | numeral | NUM\n",
            "U.S. | 96 | proper noun | PROPN\n",
            "dollars | 92 | noun | NOUN\n",
            "in | 85 | adposition | ADP\n",
            "2022 | 93 | numeral | NUM\n",
            "This | 95 | pronoun | PRON\n",
            "was | 87 | auxiliary | AUX\n",
            "the | 90 | determiner | DET\n",
            "second | 84 | adjective | ADJ\n",
            "year | 92 | noun | NOUN\n",
            "the | 90 | determiner | DET\n",
            "company | 92 | noun | NOUN\n",
            "turned | 100 | verb | VERB\n",
            "a | 90 | determiner | DET\n",
            "full | 84 | adjective | ADJ\n",
            "year | 92 | noun | NOUN\n",
            "profit | 92 | noun | NOUN\n",
            "after | 85 | adposition | ADP\n",
            "reaching | 100 | verb | VERB\n",
            "that | 90 | determiner | DET\n",
            "goal | 92 | noun | NOUN\n",
            "in | 85 | adposition | ADP\n",
            "2020 | 93 | numeral | NUM\n"
          ]
        }
      ]
    },
    {
      "cell_type": "code",
      "source": [
        "count = doc.count_by(spacy.attrs.POS)\n",
        "count"
      ],
      "metadata": {
        "colab": {
          "base_uri": "https://localhost:8080/"
        },
        "id": "Xs0S51fS7Xss",
        "outputId": "735348e0-c9af-45df-d286-36ca02158929"
      },
      "execution_count": 21,
      "outputs": [
        {
          "output_type": "execute_result",
          "data": {
            "text/plain": [
              "{103: 1,\n",
              " 84: 7,\n",
              " 92: 11,\n",
              " 85: 6,\n",
              " 96: 3,\n",
              " 94: 1,\n",
              " 87: 2,\n",
              " 86: 1,\n",
              " 93: 6,\n",
              " 97: 5,\n",
              " 98: 1,\n",
              " 100: 4,\n",
              " 95: 1,\n",
              " 90: 4}"
            ]
          },
          "metadata": {},
          "execution_count": 21
        }
      ]
    },
    {
      "cell_type": "code",
      "source": [
        "print(doc.vocab[103].text)\n",
        "print(doc.vocab[84].text)\n",
        "print(doc.vocab[92].text)\n",
        "print(doc.vocab[95].text)\n",
        "print(doc.vocab[100].text)\n",
        "print(doc.vocab[90].text)"
      ],
      "metadata": {
        "colab": {
          "base_uri": "https://localhost:8080/"
        },
        "id": "FRI5D-qd8Lkp",
        "outputId": "e52d2716-109d-44d7-fc66-6270d1696fca"
      },
      "execution_count": 26,
      "outputs": [
        {
          "output_type": "stream",
          "name": "stdout",
          "text": [
            "SPACE\n",
            "ADJ\n",
            "NOUN\n",
            "PRON\n",
            "VERB\n",
            "DET\n"
          ]
        }
      ]
    },
    {
      "cell_type": "code",
      "source": [
        "for k,v in count.items():\n",
        "  print(doc.vocab[k].text, \"|\", v )"
      ],
      "metadata": {
        "colab": {
          "base_uri": "https://localhost:8080/"
        },
        "id": "k_yAtmI48SJQ",
        "outputId": "0e77e6d6-865e-4297-9da5-994a97a93f6d"
      },
      "execution_count": 27,
      "outputs": [
        {
          "output_type": "stream",
          "name": "stdout",
          "text": [
            "SPACE | 1\n",
            "ADJ | 7\n",
            "NOUN | 11\n",
            "ADP | 6\n",
            "PROPN | 3\n",
            "PART | 1\n",
            "AUX | 2\n",
            "ADV | 1\n",
            "NUM | 6\n",
            "PUNCT | 5\n",
            "SCONJ | 1\n",
            "VERB | 4\n",
            "PRON | 1\n",
            "DET | 4\n"
          ]
        }
      ]
    },
    {
      "cell_type": "code",
      "source": [],
      "metadata": {
        "id": "0g06jMmQ9esd"
      },
      "execution_count": null,
      "outputs": []
    }
  ]
}